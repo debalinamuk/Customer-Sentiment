{
 "cells": [
  {
   "cell_type": "code",
   "execution_count": 1,
   "id": "0bcf1dd9",
   "metadata": {},
   "outputs": [],
   "source": [
    "import pandas as pd\n",
    "\n",
    "def parse_reviews_txt(file_path):\n",
    "    with open(file_path, 'r', encoding='utf-8') as f:\n",
    "        reviews = []\n",
    "        review = {}\n",
    "        for line in f:\n",
    "            line = line.strip()\n",
    "            if not line:\n",
    "                if review:\n",
    "                    reviews.append(review)\n",
    "                    review = {}\n",
    "            elif ':' in line:\n",
    "                key, value = line.split(':', 1)\n",
    "                review[key.strip()] = value.strip()\n",
    "        if review:\n",
    "            reviews.append(review)\n",
    "    return pd.DataFrame(reviews)\n",
    "\n",
    "# Load and preprocess\n",
    "df = parse_reviews_txt(\"finefoods.txt\")\n",
    "df['full_review'] = df.get('review/summary', '') + \" \" + df.get('review/text', '')\n",
    "df['full_review'] = df['full_review'].fillna('').apply(lambda x: x[:450])\n",
    "df.to_csv(\"cleaned_reviews.csv\", index=False)\n"
   ]
  },
  {
   "cell_type": "code",
   "execution_count": null,
   "id": "77de619f",
   "metadata": {},
   "outputs": [],
   "source": []
  }
 ],
 "metadata": {
  "kernelspec": {
   "display_name": "Python 3 (ipykernel)",
   "language": "python",
   "name": "python3"
  },
  "language_info": {
   "codemirror_mode": {
    "name": "ipython",
    "version": 3
   },
   "file_extension": ".py",
   "mimetype": "text/x-python",
   "name": "python",
   "nbconvert_exporter": "python",
   "pygments_lexer": "ipython3",
   "version": "3.10.12"
  }
 },
 "nbformat": 4,
 "nbformat_minor": 5
}
