{
 "cells": [
  {
   "cell_type": "markdown",
   "id": "348ad304",
   "metadata": {},
   "source": [
    "# Text Sentiment Analysis (DistilBERT)"
   ]
  },
  {
   "cell_type": "code",
   "execution_count": 1,
   "id": "2d36fe00",
   "metadata": {},
   "outputs": [
    {
     "name": "stderr",
     "output_type": "stream",
     "text": [
      "2025-04-23 16:32:02.593245: I tensorflow/core/util/port.cc:113] oneDNN custom operations are on. You may see slightly different numerical results due to floating-point round-off errors from different computation orders. To turn them off, set the environment variable `TF_ENABLE_ONEDNN_OPTS=0`.\n",
      "2025-04-23 16:32:02.630171: E external/local_xla/xla/stream_executor/cuda/cuda_dnn.cc:9373] Unable to register cuDNN factory: Attempting to register factory for plugin cuDNN when one has already been registered\n",
      "2025-04-23 16:32:02.630204: E external/local_xla/xla/stream_executor/cuda/cuda_fft.cc:607] Unable to register cuFFT factory: Attempting to register factory for plugin cuFFT when one has already been registered\n",
      "2025-04-23 16:32:02.631145: E external/local_xla/xla/stream_executor/cuda/cuda_blas.cc:1534] Unable to register cuBLAS factory: Attempting to register factory for plugin cuBLAS when one has already been registered\n",
      "2025-04-23 16:32:02.636875: I tensorflow/core/platform/cpu_feature_guard.cc:183] This TensorFlow binary is optimized to use available CPU instructions in performance-critical operations.\n",
      "To enable the following instructions: SSE3 SSE4.1 SSE4.2 AVX, in other operations, rebuild TensorFlow with the appropriate compiler flags.\n",
      "Device set to use cpu\n",
      "Analyzing Sentiments:  73%|███████▎  | 12308/16866 [1:40:50<37:36,  2.02it/s]  IOPub message rate exceeded.\n",
      "The notebook server will temporarily stop sending output\n",
      "to the client in order to avoid crashing it.\n",
      "To change this limit, set the config variable\n",
      "`--NotebookApp.iopub_msg_rate_limit`.\n",
      "\n",
      "Current values:\n",
      "NotebookApp.iopub_msg_rate_limit=1000.0 (msgs/sec)\n",
      "NotebookApp.rate_limit_window=3.0 (secs)\n",
      "\n",
      "Analyzing Sentiments: 100%|██████████| 16866/16866 [2:18:09<00:00,  2.03it/s]\n"
     ]
    }
   ],
   "source": [
    "from transformers import pipeline\n",
    "import pandas as pd\n",
    "from tqdm import tqdm  # For progress bar\n",
    "\n",
    "# Load CSV data\n",
    "df = pd.read_csv(\"cleaned_reviews.csv\")\n",
    "\n",
    "# Initialize Hugging Face sentiment pipeline (on CPU)\n",
    "sentiment_pipeline = pipeline(\n",
    "    \"sentiment-analysis\",\n",
    "    model=\"distilbert-base-uncased-finetuned-sst-2-english\",\n",
    "    device=-1  # Use CPU to avoid GPU issues\n",
    ")\n",
    "\n",
    "# Prepare text column\n",
    "texts = df['full_review'].astype(str).fillna('').tolist()\n",
    "\n",
    "# Analyze in batches with progress bar\n",
    "batch_size = 32\n",
    "labels = []\n",
    "scores = []\n",
    "\n",
    "for i in tqdm(range(0, len(texts), batch_size), desc=\"Analyzing Sentiments\"):\n",
    "    batch = texts[i:i+batch_size]\n",
    "    predictions = sentiment_pipeline(batch)\n",
    "\n",
    "    for pred, review in zip(predictions, batch):\n",
    "        if review.strip():\n",
    "            labels.append(pred['label'])\n",
    "            scores.append(round(pred['score'], 4))  # Keep 4 decimals for confidence\n",
    "        else:\n",
    "            labels.append('NEUTRAL')\n",
    "            scores.append(None)\n",
    "\n",
    "# Add predictions to the DataFrame\n",
    "df['bert_sentiment'] = labels\n",
    "df['confidence'] = scores\n",
    "\n",
    "# Save the updated data to CSV\n",
    "df.to_csv(\"reviews_with_sentiment.csv\", index=False)\n"
   ]
  },
  {
   "cell_type": "code",
   "execution_count": null,
   "id": "edf8b96d",
   "metadata": {},
   "outputs": [],
   "source": []
  },
  {
   "cell_type": "code",
   "execution_count": null,
   "id": "8a10f724",
   "metadata": {},
   "outputs": [],
   "source": []
  },
  {
   "cell_type": "code",
   "execution_count": null,
   "id": "ffc91137",
   "metadata": {},
   "outputs": [],
   "source": []
  },
  {
   "cell_type": "code",
   "execution_count": null,
   "id": "74611fca",
   "metadata": {},
   "outputs": [],
   "source": []
  }
 ],
 "metadata": {
  "kernelspec": {
   "display_name": "Python 3 (ipykernel)",
   "language": "python",
   "name": "python3"
  },
  "language_info": {
   "codemirror_mode": {
    "name": "ipython",
    "version": 3
   },
   "file_extension": ".py",
   "mimetype": "text/x-python",
   "name": "python",
   "nbconvert_exporter": "python",
   "pygments_lexer": "ipython3",
   "version": "3.10.12"
  }
 },
 "nbformat": 4,
 "nbformat_minor": 5
}
