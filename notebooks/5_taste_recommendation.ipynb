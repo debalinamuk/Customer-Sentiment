{
 "cells": [
  {
   "cell_type": "code",
   "execution_count": 2,
   "id": "7ffc363d",
   "metadata": {},
   "outputs": [
    {
     "data": {
      "application/vnd.jupyter.widget-view+json": {
       "model_id": "0e8f7f00d6ae485599dff274cf48cf44",
       "version_major": 2,
       "version_minor": 0
      },
      "text/plain": [
       "modules.json:   0%|          | 0.00/349 [00:00<?, ?B/s]"
      ]
     },
     "metadata": {},
     "output_type": "display_data"
    },
    {
     "data": {
      "application/vnd.jupyter.widget-view+json": {
       "model_id": "1991a9bd80ae4f998e1d0a63cfccfae6",
       "version_major": 2,
       "version_minor": 0
      },
      "text/plain": [
       "config_sentence_transformers.json:   0%|          | 0.00/116 [00:00<?, ?B/s]"
      ]
     },
     "metadata": {},
     "output_type": "display_data"
    },
    {
     "data": {
      "application/vnd.jupyter.widget-view+json": {
       "model_id": "d75ae96aaeda40b2901f1c4c2ebbaff7",
       "version_major": 2,
       "version_minor": 0
      },
      "text/plain": [
       "README.md:   0%|          | 0.00/10.5k [00:00<?, ?B/s]"
      ]
     },
     "metadata": {},
     "output_type": "display_data"
    },
    {
     "data": {
      "application/vnd.jupyter.widget-view+json": {
       "model_id": "143bf545caff4dfca02b9df3b72d34e4",
       "version_major": 2,
       "version_minor": 0
      },
      "text/plain": [
       "sentence_bert_config.json:   0%|          | 0.00/53.0 [00:00<?, ?B/s]"
      ]
     },
     "metadata": {},
     "output_type": "display_data"
    },
    {
     "data": {
      "application/vnd.jupyter.widget-view+json": {
       "model_id": "0b514ac63c3249b1aac22b7a08fea231",
       "version_major": 2,
       "version_minor": 0
      },
      "text/plain": [
       "config.json:   0%|          | 0.00/612 [00:00<?, ?B/s]"
      ]
     },
     "metadata": {},
     "output_type": "display_data"
    },
    {
     "name": "stderr",
     "output_type": "stream",
     "text": [
      "Xet Storage is enabled for this repo, but the 'hf_xet' package is not installed. Falling back to regular HTTP download. For better performance, install the package with: `pip install huggingface_hub[hf_xet]` or `pip install hf_xet`\n"
     ]
    },
    {
     "data": {
      "application/vnd.jupyter.widget-view+json": {
       "model_id": "7d52f36b7b8c4e5cbe765c4b00a55205",
       "version_major": 2,
       "version_minor": 0
      },
      "text/plain": [
       "model.safetensors:   0%|          | 0.00/90.9M [00:00<?, ?B/s]"
      ]
     },
     "metadata": {},
     "output_type": "display_data"
    },
    {
     "data": {
      "application/vnd.jupyter.widget-view+json": {
       "model_id": "89dfe5620fb84e78a36ab5e526aab47d",
       "version_major": 2,
       "version_minor": 0
      },
      "text/plain": [
       "tokenizer_config.json:   0%|          | 0.00/350 [00:00<?, ?B/s]"
      ]
     },
     "metadata": {},
     "output_type": "display_data"
    },
    {
     "data": {
      "application/vnd.jupyter.widget-view+json": {
       "model_id": "6dc8f586696f4a60bc19d8bad92c170d",
       "version_major": 2,
       "version_minor": 0
      },
      "text/plain": [
       "vocab.txt:   0%|          | 0.00/232k [00:00<?, ?B/s]"
      ]
     },
     "metadata": {},
     "output_type": "display_data"
    },
    {
     "data": {
      "application/vnd.jupyter.widget-view+json": {
       "model_id": "c996a928cf7f4865b21984c7156017e4",
       "version_major": 2,
       "version_minor": 0
      },
      "text/plain": [
       "tokenizer.json:   0%|          | 0.00/466k [00:00<?, ?B/s]"
      ]
     },
     "metadata": {},
     "output_type": "display_data"
    },
    {
     "data": {
      "application/vnd.jupyter.widget-view+json": {
       "model_id": "7acdda8cf22744ae8524240067de16de",
       "version_major": 2,
       "version_minor": 0
      },
      "text/plain": [
       "special_tokens_map.json:   0%|          | 0.00/112 [00:00<?, ?B/s]"
      ]
     },
     "metadata": {},
     "output_type": "display_data"
    },
    {
     "data": {
      "application/vnd.jupyter.widget-view+json": {
       "model_id": "3f04c8dc357644008ccef1d18e4762c9",
       "version_major": 2,
       "version_minor": 0
      },
      "text/plain": [
       "config.json:   0%|          | 0.00/190 [00:00<?, ?B/s]"
      ]
     },
     "metadata": {},
     "output_type": "display_data"
    },
    {
     "name": "stdout",
     "output_type": "stream",
     "text": [
      "Encoding all reviews...\n",
      "Done encoding!\n",
      "\n",
      "Top 5 Recommended Reviews for: refreshing lemon drink with sparkling taste\n",
      "\n",
      "Recommendation #1:\n",
      "Review: Delicious sparkling water This is delicious lemon lime sparkling water. I had never heard of this brand before and decided to give it a try - glad I did. Once I received it I immediately put one in the refrigerator. Later when it was cold I tried it and it was very refreshing. Just the right amount of bubbles and lemon lime flavor. This is a healthy alternative to soda. I look forward to trying TalkingRain's other flavors of sparkling water.\n",
      "Similarity Score: 0.7977\n",
      "\n",
      "Recommendation #2:\n",
      "Review: my favorite beverage This sparkling lemon beverage is refreshing and delicious.  I haven't tasted a better bottled or canned lemonade.  Because it's difficult to find in local stores, I'm happy to buy it by the case through Amazon.\n",
      "Similarity Score: 0.773\n",
      "\n",
      "Recommendation #3:\n",
      "Review: Great tasting water I am trying to get away from drinking diet soda so I decided to try sparking water with lemon.  I love the taste of this brand and Amazon has a great price.\n",
      "Similarity Score: 0.7312\n",
      "\n",
      "Recommendation #4:\n",
      "Review: Great sour lemon taste I hate sparkling water, so I was reluctant to try this for fear that it would taste like S. Pellegrino's sparkling mineral water...much to my amazement, I LOVE the taste of this! I love pretty much anything with a lemon flavor to it, and although this isn't really a lemon flavor per se, it has enough of a lemon taste to be called \"limonata.\" This looks like a traditional soda, since it comes in a traditional soda aluminum c\n",
      "Similarity Score: 0.7271\n",
      "\n",
      "Recommendation #5:\n",
      "Review: Great sour lemon taste I hate sparkling water, so I was reluctant to try this for fear that it would taste like S. Pellegrino's sparkling mineral water...much to my amazement, I LOVE the taste of this! I love pretty much anything with a lemon flavor to it, and although this isn't really a lemon flavor per se, it has enough of a lemon taste to be called \"limonata.\" This looks like a traditional soda, since it comes in a traditional soda aluminum c\n",
      "Similarity Score: 0.7271\n"
     ]
    }
   ],
   "source": [
    "# ================================================================\n",
    "# 5. Taste-Based Recommendation using Sentence-BERT\n",
    "# ================================================================\n",
    "# Purpose:\n",
    "# - Given a flavor or drink preference query,\n",
    "#   recommend similar customer reviews based on meaning.\n",
    "# ================================================================\n",
    "\n",
    "# STEP 1: Imports\n",
    "from sentence_transformers import SentenceTransformer, util\n",
    "import pandas as pd\n",
    "import torch\n",
    "\n",
    "# STEP 2: Load Cleaned Reviews\n",
    "df = pd.read_csv('/home/mukhopadhyayd/Customer Sentiment/data/processed/reviews_with_sentiment.csv')  # Already created earlier\n",
    "reviews_list = df['full_review'].dropna().tolist()\n",
    "\n",
    "# STEP 3: Load Sentence-BERT Model\n",
    "# This model converts text into embeddings (vector representations)\n",
    "model = SentenceTransformer('all-MiniLM-L6-v2')\n",
    "\n",
    "# STEP 4: Encode All Reviews\n",
    "# This step can take some time depending on number of reviews\n",
    "print(\"Encoding all reviews...\")\n",
    "review_embeddings = model.encode(reviews_list, convert_to_tensor=True)\n",
    "print(\"Done encoding!\")\n",
    "\n",
    "# STEP 5: Define the Recommendation Function\n",
    "def taste_recommendation(query, reviews, review_embeddings, top_k=5):\n",
    "    \"\"\"Recommend reviews based on similarity to user flavor query.\"\"\"\n",
    "    query_embedding = model.encode(query, convert_to_tensor=True)\n",
    "    scores = util.pytorch_cos_sim(query_embedding, review_embeddings)[0]\n",
    "    top_results = torch.topk(scores, k=top_k)\n",
    "    \n",
    "    recommended_reviews = []\n",
    "    for score, idx in zip(top_results[0], top_results[1]):\n",
    "        recommended_reviews.append((reviews[idx], score.item()))\n",
    "    return recommended_reviews\n",
    "\n",
    "# STEP 6: Query Example\n",
    "# ---------------------------------------------------------------\n",
    "\n",
    "# User provides a flavor preference\n",
    "user_query = \"refreshing lemon drink with sparkling taste\"\n",
    "\n",
    "# Get top 5 recommended reviews\n",
    "recommendations = taste_recommendation(user_query, reviews_list, review_embeddings, top_k=5)\n",
    "\n",
    "# Display Results\n",
    "print(\"\\nTop 5 Recommended Reviews for:\", user_query)\n",
    "for idx, (review, score) in enumerate(recommendations):\n",
    "    print(f\"\\nRecommendation #{idx+1}:\")\n",
    "    print(\"Review:\", review)\n",
    "    print(\"Similarity Score:\", round(score, 4))\n"
   ]
  },
  {
   "cell_type": "code",
   "execution_count": null,
   "id": "4af7752d",
   "metadata": {},
   "outputs": [],
   "source": []
  },
  {
   "cell_type": "code",
   "execution_count": null,
   "id": "1e8c0cde",
   "metadata": {},
   "outputs": [],
   "source": []
  }
 ],
 "metadata": {
  "kernelspec": {
   "display_name": "Python 3 (ipykernel)",
   "language": "python",
   "name": "python3"
  },
  "language_info": {
   "codemirror_mode": {
    "name": "ipython",
    "version": 3
   },
   "file_extension": ".py",
   "mimetype": "text/x-python",
   "name": "python",
   "nbconvert_exporter": "python",
   "pygments_lexer": "ipython3",
   "version": "3.10.12"
  }
 },
 "nbformat": 4,
 "nbformat_minor": 5
}
